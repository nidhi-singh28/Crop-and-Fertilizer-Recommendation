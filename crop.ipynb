{
 "cells": [
  {
   "cell_type": "markdown",
   "id": "1bc0400c",
   "metadata": {},
   "source": [
    "## crop and fertilizer recommendation system using ml"
   ]
  },
  {
   "cell_type": "code",
   "execution_count": 15,
   "id": "af9ed16e",
   "metadata": {},
   "outputs": [
    {
     "name": "stdout",
     "output_type": "stream",
     "text": [
      "<class 'pandas.core.frame.DataFrame'>\n",
      "RangeIndex: 2200 entries, 0 to 2199\n",
      "Data columns (total 8 columns):\n",
      " #   Column       Non-Null Count  Dtype  \n",
      "---  ------       --------------  -----  \n",
      " 0   N            2200 non-null   int64  \n",
      " 1   P            2200 non-null   int64  \n",
      " 2   K            2200 non-null   int64  \n",
      " 3   temperature  2200 non-null   float64\n",
      " 4   humidity     2200 non-null   float64\n",
      " 5   ph           2200 non-null   float64\n",
      " 6   rainfall     2200 non-null   float64\n",
      " 7   label        2200 non-null   object \n",
      "dtypes: float64(4), int64(3), object(1)\n",
      "memory usage: 137.6+ KB\n"
     ]
    },
    {
     "data": {
      "text/plain": [
       "label\n",
       "rice           100\n",
       "maize          100\n",
       "jute           100\n",
       "cotton         100\n",
       "coconut        100\n",
       "papaya         100\n",
       "orange         100\n",
       "apple          100\n",
       "muskmelon      100\n",
       "watermelon     100\n",
       "grapes         100\n",
       "mango          100\n",
       "banana         100\n",
       "pomegranate    100\n",
       "lentil         100\n",
       "blackgram      100\n",
       "mungbean       100\n",
       "mothbeans      100\n",
       "pigeonpeas     100\n",
       "kidneybeans    100\n",
       "chickpea       100\n",
       "coffee         100\n",
       "Name: count, dtype: int64"
      ]
     },
     "execution_count": 15,
     "metadata": {},
     "output_type": "execute_result"
    }
   ],
   "source": [
    "# importing necessary libraries\n",
    "import numpy as np\n",
    "import pandas as pd\n",
    "import matplotlib.pyplot as plt\n",
    "import seaborn as sns\n",
    "\n",
    "# loading csv files\n",
    "crop = pd.read_csv(r\"C:\\Users\\HP\\Desktop\\crop and fertilizer\\Crop_recommendation.csv\")\n",
    "\n",
    "# returns first 5 rows of dataset\n",
    "crop.head()\n",
    "\n",
    "# returns last 5 rows of dataset\n",
    "crop.tail()\n",
    "\n",
    "# returns rows and columns\n",
    "crop.shape\n",
    "\n",
    "# returns info of dataset\n",
    "crop.info()\n",
    "\n",
    "# checking null values\n",
    "crop.isnull().sum()\n",
    "\n",
    "# checking duplicate values\n",
    "crop.duplicated().sum()\n",
    "\n",
    "# checking statistics of the data\n",
    "crop.describe()\n",
    "\n",
    "# it shows all the columns\n",
    "crop.columns\n",
    "\n",
    "# checking feature of specific columns\n",
    "crop['label'].value_counts()\n",
    "\n",
    "\n",
    "\n"
   ]
  }
 ],
 "metadata": {
  "kernelspec": {
   "display_name": "base",
   "language": "python",
   "name": "python3"
  },
  "language_info": {
   "codemirror_mode": {
    "name": "ipython",
    "version": 3
   },
   "file_extension": ".py",
   "mimetype": "text/x-python",
   "name": "python",
   "nbconvert_exporter": "python",
   "pygments_lexer": "ipython3",
   "version": "3.11.7"
  }
 },
 "nbformat": 4,
 "nbformat_minor": 5
}
